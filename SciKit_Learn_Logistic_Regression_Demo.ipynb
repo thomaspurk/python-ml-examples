{
  "nbformat": 4,
  "nbformat_minor": 0,
  "metadata": {
    "colab": {
      "provenance": [],
      "authorship_tag": "ABX9TyP49v6HNp0IjM8G98kqtOYV"
    },
    "kernelspec": {
      "name": "python3",
      "display_name": "Python 3"
    },
    "language_info": {
      "name": "python"
    }
  },
  "cells": [
    {
      "cell_type": "code",
      "execution_count": null,
      "metadata": {
        "colab": {
          "base_uri": "https://localhost:8080/"
        },
        "id": "Jc_KBjJsSnS6",
        "outputId": "c769a9b7-deca-4ad0-d251-9f5252e949df"
      },
      "outputs": [
        {
          "output_type": "stream",
          "name": "stdout",
          "text": [
            "numpy                              2.0.2\n"
          ]
        }
      ],
      "source": [
        "!pip list | grep numpy"
      ]
    },
    {
      "cell_type": "code",
      "source": [
        "!pip list | grep pandas"
      ],
      "metadata": {
        "colab": {
          "base_uri": "https://localhost:8080/"
        },
        "id": "tnAqeBqHTYgH",
        "outputId": "0abc92d7-da19-4c3e-bc77-d163526d2416"
      },
      "execution_count": null,
      "outputs": [
        {
          "output_type": "stream",
          "name": "stdout",
          "text": [
            "geopandas                          1.0.1\n",
            "pandas                             2.2.2\n",
            "pandas-datareader                  0.10.0\n",
            "pandas-gbq                         0.28.0\n",
            "pandas-stubs                       2.2.2.240909\n",
            "sklearn-pandas                     2.2.0\n"
          ]
        }
      ]
    },
    {
      "cell_type": "code",
      "source": [
        "!pip list | grep matplotlib"
      ],
      "metadata": {
        "colab": {
          "base_uri": "https://localhost:8080/"
        },
        "id": "9BlHWEezX345",
        "outputId": "36769d84-9a72-4632-d4c0-04bc4cf60534"
      },
      "execution_count": null,
      "outputs": [
        {
          "output_type": "stream",
          "name": "stdout",
          "text": [
            "matplotlib                         3.10.0\n",
            "matplotlib-inline                  0.1.7\n",
            "matplotlib-venn                    1.1.2\n"
          ]
        }
      ]
    },
    {
      "cell_type": "code",
      "source": [
        "!pip list | grep seaborn"
      ],
      "metadata": {
        "colab": {
          "base_uri": "https://localhost:8080/"
        },
        "id": "OiDV1EpLYEOj",
        "outputId": "45e76699-c0e2-486c-82b4-4f08cdf4637d"
      },
      "execution_count": null,
      "outputs": [
        {
          "output_type": "stream",
          "name": "stdout",
          "text": [
            "seaborn                            0.13.2\n"
          ]
        }
      ]
    },
    {
      "cell_type": "code",
      "source": [
        "!pip list | grep sklearn"
      ],
      "metadata": {
        "colab": {
          "base_uri": "https://localhost:8080/"
        },
        "id": "6lHISFGGYSXS",
        "outputId": "666635c3-cfa9-466a-96fc-447ea7729307"
      },
      "execution_count": null,
      "outputs": [
        {
          "output_type": "stream",
          "name": "stdout",
          "text": [
            "sklearn-compat                     0.1.3\n",
            "sklearn-pandas                     2.2.0\n"
          ]
        }
      ]
    },
    {
      "cell_type": "code",
      "source": [
        "#Test"
      ],
      "metadata": {
        "id": "P21dld6Hdvlz"
      },
      "execution_count": null,
      "outputs": []
    },
    {
      "cell_type": "code",
      "source": [],
      "metadata": {
        "id": "DaqIYLqvYhnV"
      },
      "execution_count": null,
      "outputs": []
    }
  ]
}